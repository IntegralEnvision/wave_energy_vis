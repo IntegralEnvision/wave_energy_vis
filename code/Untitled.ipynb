{
 "cells": [
  {
   "cell_type": "code",
   "execution_count": 27,
   "id": "62b80c90",
   "metadata": {},
   "outputs": [
    {
     "name": "stdout",
     "output_type": "stream",
     "text": [
      "<Client: 'tcp://127.0.0.1:60739' processes=4 threads=8, memory=32.00 GiB>\n"
     ]
    },
    {
     "data": {
      "text/plain": [
       "'http://127.0.0.1:8787/status'"
      ]
     },
     "execution_count": 27,
     "metadata": {},
     "output_type": "execute_result"
    }
   ],
   "source": [
    "import dask\n",
    "import dask.dataframe as dd\n",
    "import datetime as dt\n",
    "from dask.distributed import Client\n",
    "import multiprocessing\n",
    "client = Client()\n",
    "print(client)\n",
    "client.dashboard_link\n",
    "\n"
   ]
  },
  {
   "cell_type": "code",
   "execution_count": 26,
   "id": "013d0846",
   "metadata": {},
   "outputs": [],
   "source": []
  },
  {
   "cell_type": "code",
   "execution_count": null,
   "id": "662032f1",
   "metadata": {},
   "outputs": [],
   "source": [
    "date = dt.datetime(2009,12,1)\n",
    "spectype = 'partition'\n",
    "# ftproot = 'https://polar.ncep.noaa.gov/waves/hindcasts/nopp-phase2/{}/partitions/'.format(date.strftime('%Y%m'))\n",
    "outroot = '../data/{}/'.format(spectype)\n",
    "grid = 'multi_reanal.partition.glo_30m'\n",
    "fname = grid + '.{}'.format(date.strftime('%Y%m'))\n",
    "# local_netcdf = outroot + fname + '.nc'\n",
    "# url = ftproot + fname + '.nc'\n",
    "\n",
    "#ddf = dd.read_parquet(outroot + fname + '.part*.parquet')\n",
    "ddf = ddf.repartition(npartitions=168)\n",
    "ddf.npartitions\n",
    "print(ddf.memory_usage_per_partition(deep=True).compute())\n"
   ]
  },
  {
   "cell_type": "code",
   "execution_count": 64,
   "id": "09bf93d0-0a48-4a19-8b1b-f1e7b540c2fc",
   "metadata": {},
   "outputs": [],
   "source": [
    "client.close()"
   ]
  },
  {
   "cell_type": "code",
   "execution_count": 47,
   "id": "e1224b18-1086-4aa4-8159-c60a14942ef7",
   "metadata": {},
   "outputs": [],
   "source": []
  },
  {
   "cell_type": "code",
   "execution_count": 12,
   "id": "7e1a37ef-30d0-486f-8edb-8fbdfb135c01",
   "metadata": {},
   "outputs": [],
   "source": [
    "\n"
   ]
  },
  {
   "cell_type": "code",
   "execution_count": null,
   "id": "ccfacccd-b493-469c-89bb-a2cd0c6e28a8",
   "metadata": {},
   "outputs": [],
   "source": []
  }
 ],
 "metadata": {
  "kernelspec": {
   "display_name": "Python 3 (ipykernel)",
   "language": "python",
   "name": "python3"
  },
  "language_info": {
   "codemirror_mode": {
    "name": "ipython",
    "version": 3
   },
   "file_extension": ".py",
   "mimetype": "text/x-python",
   "name": "python",
   "nbconvert_exporter": "python",
   "pygments_lexer": "ipython3",
   "version": "3.10.8"
  }
 },
 "nbformat": 4,
 "nbformat_minor": 5
}
